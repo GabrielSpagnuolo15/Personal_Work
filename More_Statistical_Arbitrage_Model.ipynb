{
 "cells": [
  {
   "cell_type": "code",
   "execution_count": null,
   "metadata": {},
   "outputs": [],
   "source": [
    "def new_model():\n",
    "    input1 = input(\"Please enter if the first bet is on the Favourite or Underdog (Need to type either F or U): \").strip().upper()\n",
    "    \n",
    "    input2 = int(input(\"Enter the odds of the first bet (Just the Number): \"))\n",
    "\n",
    "    print(f\"You entered: {input1} and {input2} for bet 1\")\n",
    "\n",
    "    if input1 == 'F':\n",
    "        percent_to_win = abs(input2) / (abs(input2) + 100)\n",
    "\n",
    "    elif input1 == 'U':\n",
    "        percent_to_win = 100 / (input2 + 100)\n",
    "        \n",
    "    else:\n",
    "        raise ValueError(\"Invalid input1 parameter. Run the model and try again.\")\n",
    "    \n",
    "    print(f\"Implied probability for bet 1: {percent_to_win:.4f} (Percentage: {percent_to_win * 100:.2f}%) (Decimal: {1 /percent_to_win:.2f})\")\n",
    "\n",
    "    \n",
    "    required_percent_to_win = 1 - percent_to_win\n",
    "\n",
    "    if required_percent_to_win < 0.5: \n",
    "        second_bet_odds = (100 / required_percent_to_win) - 100\n",
    "    else:\n",
    "        second_bet_odds = -1 * ((100 * required_percent_to_win) / (1 - required_percent_to_win))\n",
    "\n",
    "    print(f\"The highest odds allowed in terms of being favourited for the second bet to ensure arbitrage: {second_bet_odds:.2f}\")\n",
    "    print(f\"Second bet implied probability: {required_percent_to_win * 100:.2f}% (Decimal: {1 / required_percent_to_win:.2f})\")"
   ]
  },
  {
   "cell_type": "code",
   "execution_count": 43,
   "metadata": {},
   "outputs": [
    {
     "name": "stdout",
     "output_type": "stream",
     "text": [
      "You entered: U and 225 for bet 1\n",
      "Implied probability for bet 1: 0.3077 (Percentage: 30.77%) (Decimal: 3.25)\n",
      "The highest odds allowed in terms of being favourited for the second bet to ensure arbitrage: -225.00\n",
      "Second bet implied probability: 69.23% (Decimal: 1.44)\n"
     ]
    }
   ],
   "source": [
    "if __name__ == \"__main__\":\n",
    "    new_model()"
   ]
  },
  {
   "cell_type": "code",
   "execution_count": 84,
   "metadata": {},
   "outputs": [],
   "source": [
    "def profit_model():\n",
    "    input1 = input(\"Please enter if the first bet is on the Favourite or Underdog (Need to type either F or U): \")\n",
    "    \n",
    "    input2 = int(input(\"Enter the odds of the first bet (Just the Number): \"))\n",
    "    \n",
    "    input3 = input(\"Please enter if the second bet is on the Favourite or Underdog (Need to type either F or U): \")\n",
    "    \n",
    "    input4 = int(input(\"Enter the odds of the second bet (Just the Number): \"))\n",
    "    \n",
    "    input5 = float(input(\"Enter the maximum willing to bet on one of the bets: \"))\n",
    "    \n",
    "    print(f\"You entered: {input1} and {input2} for bet 1 and {input3} and {input4} for bet 2\")\n",
    "\n",
    "    if input1 == 'F':\n",
    "        decimal_1 = 1 / ((abs(input2) / (abs(input2) + 100)))\n",
    "\n",
    "    elif input1 == 'U':\n",
    "        decimal_1 = 1 / ((100 / (input2 + 100)))\n",
    "\n",
    "    else:\n",
    "        raise ValueError(\"Invalid input1 parameter. Run the model and try again.\")\n",
    "    \n",
    "    if input3 == 'F':\n",
    "        decimal_2 = 1 / ((abs(input4) / (abs(input4) + 100)))\n",
    "     \n",
    "    elif input3 == 'U':\n",
    "        decimal_2 = 1 / ((100 / (input4 + 100)))\n",
    "     \n",
    "    else:\n",
    "        raise ValueError(\"Invalid input3 parameter. Run the model and try again.\")\n",
    "    \n",
    "    print(f\"Decimal 1 = {decimal_1} and Decimal 2 = {decimal_2}\")\n",
    "    prob_1 = 1 / decimal_1\n",
    "    prob_2 = 1 / decimal_2\n",
    "    percent1 = prob_1 * 100\n",
    "    percent2 = prob_2 * 100    \n",
    "    percent_to_win = (percent1) + (percent2)    \n",
    "    if percent_to_win > 100:\n",
    "        print(\"Arbitrage bet not possible\")\n",
    "    \n",
    "    else:\n",
    "        if decimal_1 > decimal_2:\n",
    "            stake = (decimal_1 * input5) / decimal_2\n",
    "            variable1 = ((decimal_1 - 1) * input5)\n",
    "            variable2 = ((decimal_2 - 1) * stake)\n",
    "            profit_1 = variable1 - variable2\n",
    "            profit_2 = stake - input5\n",
    "            print(f\"For the bet at sportsbook 1 {input5} and sportsbook 2 {stake}, the first bet will yield: {profit_1:.2f} with a gain of {variable1:.2f} and a loss of {variable2:.2f}\") \n",
    "            print(f\"For the bet at sportsbook 1 {input5} and sportsbook 2 {stake}, the second bet will yield: {profit_2:.2f} with a gain of {stake:.2f} and a loss of {input5:.2f}\")\n",
    "\n",
    "        else:\n",
    "            stake = (decimal_2 * input5) / decimal_1\n",
    "            variable2 = ((decimal_2 - 1) * input5)\n",
    "            variable1 = ((decimal_1 - 1) * stake)\n",
    "            profit_2 = variable2 - variable1\n",
    "            profit_1 = stake - input5\n",
    "            print(f\"For the bet at sportsbook 1 {stake} and sportsbook 2 {input5}, the first bet will yield: {profit_1:.2f} with a gain of {stake:.2f} and a loss of {input5:.2f}\") \n",
    "            print(f\"For the bet at sportsbook 1 {stake} and sportsbook 2 {input5}, the second bet will yield: {profit_2:.2f} with a gain of {variable2:.2f} and a loss of {variable1:.2f}\")"
   ]
  },
  {
   "cell_type": "code",
   "execution_count": 85,
   "metadata": {},
   "outputs": [
    {
     "name": "stdout",
     "output_type": "stream",
     "text": [
      "You entered: U and 125 for bet 1 and U and 130 for bet 2\n",
      "Decimal 1 = 2.25 and Decimal 2 = 2.3000000000000003\n",
      "For the bet at sportsbook 1 102.22222222222223 and sportsbook 2 100.0, the first bet will yield: 2.22 with a gain of 102.22 and a loss of 100.00\n",
      "For the bet at sportsbook 1 102.22222222222223 and sportsbook 2 100.0, the second bet will yield: 2.22 with a gain of 130.00 and a loss of 127.78\n"
     ]
    }
   ],
   "source": [
    "if __name__ == \"__main__\":\n",
    "    profit_model()"
   ]
  },
  {
   "cell_type": "code",
   "execution_count": null,
   "metadata": {},
   "outputs": [],
   "source": []
  }
 ],
 "metadata": {
  "kernelspec": {
   "display_name": "Python 3",
   "language": "python",
   "name": "python3"
  },
  "language_info": {
   "codemirror_mode": {
    "name": "ipython",
    "version": 3
   },
   "file_extension": ".py",
   "mimetype": "text/x-python",
   "name": "python",
   "nbconvert_exporter": "python",
   "pygments_lexer": "ipython3",
   "version": "3.11.3"
  }
 },
 "nbformat": 4,
 "nbformat_minor": 2
}
