{
 "cells": [
  {
   "cell_type": "markdown",
   "metadata": {},
   "source": [
    "Recently, I was inspired to create an arbitrage sports betting model to see how often these opprtunities emerge. Before incorporating actual sports books, developping an accurate model was necessary. Intially, the model was quickly developped in Excel VBA using excel solver, however, the model might require too many iterations along with too many constraints to operate efficently, so it was converted to Python."
   ]
  },
  {
   "cell_type": "code",
   "execution_count": 4,
   "metadata": {},
   "outputs": [],
   "source": [
    "import scipy.optimize as opt"
   ]
  },
  {
   "cell_type": "markdown",
   "metadata": {},
   "source": [
    "This function is equivalent to inputting the betting odds and total betting amount within an input box in VBA, and running excel solver to produce the optimal result.\n",
    "\n",
    "The only difference is that within this python library, the goal of the objective function needs to be to minimize it. The reason for the selected objective function was due to additional research. Within an arbitrage bet, the optimal output happens when the total money won from bet 1 and bet 2 are equal. The difference of squares was taken to ensure the answer stays positive, and mathematically it is typically better to square something as opposed to using the absolute difference."
   ]
  },
  {
   "cell_type": "code",
   "execution_count": 5,
   "metadata": {},
   "outputs": [],
   "source": [
    "def run_solver():\n",
    "    # Prompt the user for input (equivalent to Excel's InputBox)\n",
    "    input1 = input(\"Please enter if the first bet is on the Favourite or Underdog (Need to type either F or U): \")\n",
    "    \n",
    "    input2 = int(input(\"Enter the odds of the first bet (Just the Number): \"))\n",
    "    \n",
    "    input3 = input(\"Please enter if the second bet is on the Favourite or Underdog (Need to type either F or U): \")\n",
    "    \n",
    "    input4 = int(input(\"Enter the odds of the second bet (Just the Number): \"))\n",
    "    \n",
    "    input5 = float(input(\"Enter the maximum willing to bet: \"))\n",
    "    \n",
    "    # Display the input values\n",
    "    print(f\"You entered: {input1} and {input2} for bet 1 and {input3} and {input4} for bet 2\")\n",
    "    \n",
    "    # Define the objective function (for example, minimizing something based on the inputs)\n",
    "    # Example: Minimize a function that depends on the inputs (you can define your own function)\n",
    "    \n",
    "    # This could represent some mathematical objective based on the user's input\n",
    "    def objective(x):\n",
    "        # Just an example: bet amounts as the decision variables\n",
    "        bet1 = x[0]\n",
    "        bet2 = x[1]\n",
    "\n",
    "        if input1 == 'F':\n",
    "            total_money_1 = (bet1 * 100 / input2) + bet1\n",
    "        \n",
    "        elif input1 == 'U':\n",
    "            total_money_1 = (bet1 * input2 / 100) + bet1\n",
    "        \n",
    "        else:\n",
    "            raise ValueError(\"Invalid input1 parameter. Run the model and try again.\")\n",
    "\n",
    "        if input3 == 'F':\n",
    "            total_money_2 = (bet2 * 100 / input4) + bet2\n",
    "        \n",
    "        elif input3 == 'U':\n",
    "            total_money_2 = (bet2 * input4 / 100) + bet2\n",
    "        \n",
    "        else:\n",
    "            raise ValueError(\"Invalid input3 parameter. Run the model and try again.\")\n",
    "        \n",
    "        return (total_money_1 - total_money_2) ** 2  # Minimize the difference for equal payout\n",
    "\n",
    "    # Constraints: \n",
    "    constraints = (\n",
    "        {\"type\": \"ineq\", \"fun\": lambda x: input5 - (x[0] + x[1])},  # Sum of bet1 and bet2 equals input5\n",
    "        {\"type\": \"ineq\", \"fun\": lambda x: x[0]},  # bet1 >= 0\n",
    "        {\"type\": \"ineq\", \"fun\": lambda x: x[1]},  # bet2 >= 0\n",
    "        {\"type\": \"ineq\", \"fun\": lambda x: input5 - x[0]},  # bet1 <= input5\n",
    "        {\"type\": \"ineq\", \"fun\": lambda x: input5 - x[1]},  # bet2 <= input5\n",
    "    )\n",
    "\n",
    "    # Initial guess for the optimization (you can adjust the initial guess as needed)\n",
    "    initial_guess = [input5 / 2, input5 / 2]  # Assuming you want to split input5 evenly between the two bets\n",
    "\n",
    "    # Perform the optimization\n",
    "    result = opt.minimize(objective, initial_guess, constraints=constraints, options={'maxiter': 1000000}, method='SLSQP')\n",
    "\n",
    "    # Check if the optimization was successful\n",
    "    if result.success:\n",
    "        # Optimization succeeded, display the results\n",
    "        optimized_bets = result.x\n",
    "        print(f\"Bet 1 Status: {input1} {input2}\")\n",
    "        print(f\"Bet 2 Status: {input3} {input4}\")\n",
    "        print(f\"Optimal Bet 1: {optimized_bets[0]:.2f}\")\n",
    "        print(f\"Optimal Bet 2: {optimized_bets[1]:.2f}\")\n",
    "\n",
    "        # Calculate and print the value of the objective function\n",
    "        if input1 == 'F':\n",
    "            total_money_1 = (optimized_bets[0] * 100 / input2) + optimized_bets[0]\n",
    "        else:\n",
    "            total_money_1 = (optimized_bets[0] * input2 / 100) + optimized_bets[0]\n",
    "        if input3 == 'F':\n",
    "            total_money_2 = (optimized_bets[1] * 100 / input4) + optimized_bets[1]\n",
    "        else:\n",
    "            total_money_2 = (optimized_bets[1] * input4 / 100) + optimized_bets[1]\n",
    "        \n",
    "        profit = min(total_money_1, total_money_2) - input5\n",
    "        print(f\"Profit: ${profit:.2f}\")\n",
    "    else:\n",
    "        print(\"Solver failed to find a solution.\")"
   ]
  },
  {
   "cell_type": "code",
   "execution_count": 6,
   "metadata": {},
   "outputs": [
    {
     "name": "stdout",
     "output_type": "stream",
     "text": [
      "You entered: U and 125 for bet 1 and U and 130 for bet 2\n",
      "Bet 1 Status: U 125\n",
      "Bet 2 Status: U 130\n",
      "Optimal Bet 1: 101.09\n",
      "Optimal Bet 2: 98.89\n",
      "Profit: $27.45\n"
     ]
    }
   ],
   "source": [
    "if __name__ == \"__main__\":\n",
    "    run_solver()"
   ]
  },
  {
   "cell_type": "markdown",
   "metadata": {},
   "source": [
    "Based on several attempts, the model is not converging on the proper value. This could be due to several factors, but this model will not be effective. There will be a second model made based on an article from Medium."
   ]
  },
  {
   "cell_type": "markdown",
   "metadata": {},
   "source": []
  }
 ],
 "metadata": {
  "kernelspec": {
   "display_name": "Python 3",
   "language": "python",
   "name": "python3"
  },
  "language_info": {
   "codemirror_mode": {
    "name": "ipython",
    "version": 3
   },
   "file_extension": ".py",
   "mimetype": "text/x-python",
   "name": "python",
   "nbconvert_exporter": "python",
   "pygments_lexer": "ipython3",
   "version": "3.11.3"
  }
 },
 "nbformat": 4,
 "nbformat_minor": 2
}
