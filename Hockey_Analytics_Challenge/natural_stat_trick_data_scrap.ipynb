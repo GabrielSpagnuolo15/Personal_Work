{
 "cells": [
  {
   "cell_type": "code",
   "execution_count": 1,
   "metadata": {},
   "outputs": [],
   "source": [
    "import pandas as pd\n",
    "import time\n",
    "from concurrent.futures import ThreadPoolExecutor\n",
    "import os\n",
    "import random\n",
    "import time\n",
    "import urllib.error\n",
    "import socket\n",
    "import datetime\n",
    "import logging"
   ]
  },
  {
   "cell_type": "code",
   "execution_count": 2,
   "metadata": {},
   "outputs": [],
   "source": [
    "def save_to_csv(df, filename):\n",
    "    if not os.path.isfile(filename):\n",
    "        df.to_csv(filename, index=False)\n",
    "    else:  \n",
    "        df.to_csv(filename, mode='a', header=False, index=False)"
   ]
  },
  {
   "cell_type": "code",
   "execution_count": 3,
   "metadata": {},
   "outputs": [
    {
     "name": "stdout",
     "output_type": "stream",
     "text": [
      "Attempt 1 failed: <urlopen error [Errno 11001] getaddrinfo failed>\n",
      "Attempt 1 failed: <urlopen error [WinError 10060] A connection attempt failed because the connected party did not properly respond after a period of time, or established connection failed because connected host has failed to respond>\n",
      "Attempt 2 failed: <urlopen error [WinError 10060] A connection attempt failed because the connected party did not properly respond after a period of time, or established connection failed because connected host has failed to respond>\n",
      "Attempt 3 failed: <urlopen error [WinError 10060] A connection attempt failed because the connected party did not properly respond after a period of time, or established connection failed because connected host has failed to respond>\n",
      "Skipping https://www.naturalstattrick.com/teamtable.php?fromseason=20072008&thruseason=20072008&stype=2&sit=ena&score=d&rate=n&team=all&loc=B&gpf=410&fd=&td= due to repeated failures.\n",
      "Attempt 1 failed: <urlopen error [WinError 10060] A connection attempt failed because the connected party did not properly respond after a period of time, or established connection failed because connected host has failed to respond>\n",
      "Attempt 2 failed: <urlopen error [WinError 10060] A connection attempt failed because the connected party did not properly respond after a period of time, or established connection failed because connected host has failed to respond>\n",
      "Attempt 3 failed: <urlopen error [WinError 10060] A connection attempt failed because the connected party did not properly respond after a period of time, or established connection failed because connected host has failed to respond>\n",
      "Skipping https://www.naturalstattrick.com/teamtable.php?fromseason=20072008&thruseason=20072008&stype=2&sit=ena&score=d&rate=n&team=all&loc=H&gpf=410&fd=&td= due to repeated failures.\n",
      "Attempt 1 failed: <urlopen error [WinError 10060] A connection attempt failed because the connected party did not properly respond after a period of time, or established connection failed because connected host has failed to respond>\n"
     ]
    }
   ],
   "source": [
    "time.sleep(1500)\n",
    "current_year = datetime.datetime.now().year\n",
    "start_year = 2007\n",
    "year_ranges = [f\"{year}{year + 1}\" for year in range(start_year, current_year)]\n",
    "present_type = ['all', 'ev', '5v5', 'sva', 'pp', '5v4', 'pk', '4v5', '3v3', 'enf', 'ena']\n",
    "score_type = ['all', 'tied', 'u', 'd', 'w1', 'u1', 'd1']\n",
    "situation_type = ['B', 'H', 'A']\n",
    "\n",
    "team_dataframes = []\n",
    "\n",
    "logging.basicConfig(level=logging.INFO, filename=r\"C:\\Users\\gabri\\Documents\\first_logging.txt\", filemode='a', format='%(asctime)s - %(levelname)s - %(message)s')\n",
    "\n",
    "def fetch_html_with_retry(url, retries=3, delay=50):\n",
    "    for i in range(retries):\n",
    "        try:\n",
    "            logging.info(f\"Fetching data from {url}, attempt {i+1}\")   \n",
    "            full_df = pd.read_html(url)\n",
    "            return full_df\n",
    "        except (urllib.error.URLError, socket.gaierror) as e:\n",
    "            print(f\"Attempt {i+1} failed: {e}\")\n",
    "            time.sleep(delay)\n",
    "    raise Exception(f\"Failed to retrieve data from {url} after {retries} attempts\")\n",
    "\n",
    "for years in year_ranges:\n",
    "    for types in present_type:\n",
    "        for scores in score_type:\n",
    "            for situation in situation_type: \n",
    "                url = f\"https://www.naturalstattrick.com/teamtable.php?fromseason={years}&thruseason={years}&stype=2&sit={types}&score={scores}&rate=n&team=all&loc={situation}&gpf=410&fd=&td=\"\n",
    "                try:\n",
    "                    full_df = fetch_html_with_retry(url)\n",
    "                    df = full_df[0]\n",
    "                    df['Years'] = years\n",
    "                    df['On Ice Situation'] = types\n",
    "                    df['Score'] = scores\n",
    "                    df['Place'] = situation\n",
    "                    team_dataframes.append(df)\n",
    "                    time.sleep(10)\n",
    "                except Exception as e:\n",
    "                    print(f\"Skipping {url} due to repeated failures.\")\n",
    "            time.sleep(10)\n",
    "        time.sleep(10)\n",
    "    time.sleep(15)\n",
    "time.sleep(random.randint(45, 60))\n",
    "\n",
    "team_df = pd.concat(team_dataframes, ignore_index=True)"
   ]
  },
  {
   "cell_type": "code",
   "execution_count": null,
   "metadata": {},
   "outputs": [],
   "source": [
    "team_df.head(30)"
   ]
  },
  {
   "cell_type": "code",
   "execution_count": null,
   "metadata": {},
   "outputs": [],
   "source": [
    "years_mapping = {'20072008':'2007-2008', '20082009':'2008-2009', '20092010':'2009-2010', '20102011':'2010-2011', '20112012':'2011-2012', \n",
    "                 '20122013':'2012-2013', '20132014':'2013-2014', '20142015':'2014-2015', '20152016':'2015-2016', '20162017':'2016-2017', \n",
    "                 '20172018':'2017-2018', '20182019':'2018-2019', '20192020':'2019-2020', '20202021':'2020-2021', '20212022':'2021-2022',\n",
    "                 '20222023':'2022-2023', '20232024':'2023-2024'}\n",
    "team_df['Years'] = team_df['Years'].map(years_mapping)\n",
    "\n",
    "on_ice_mapping = {'all':'All Strengths', 'ev':'Even Strength', '5v5':'5v5', 'sva':'5v5 Score and Venue Adjusted', 'pp':'Power Play', \n",
    "                 '5v4':'5 on 4 PP', 'pk':'Penalty Kill', '4v5':'4 on 5 PK', '3v3':'3 on 3', 'enf':'With Empty Net', \n",
    "                 'ena':'Against Empty Net'}\n",
    "team_df['On Ice Situation'] = team_df['On Ice Situation'].map(on_ice_mapping)\n",
    "\n",
    "scores_mapping = {'all':'All Scores', 'tied':'Tied', 'u':'Leading', 'd':'Trailing', 'w1':'Within 1', 'u1':'Up 1', 'd1':'Down 1'}\n",
    "team_df['Score'] = team_df['Score'].map(scores_mapping)\n",
    "\n",
    "situation_mapping = {'B':'Home and Away', 'H':'Home', 'A':'Away'}\n",
    "team_df['Place'] = team_df['Place'].map(situation_mapping)"
   ]
  },
  {
   "cell_type": "code",
   "execution_count": null,
   "metadata": {},
   "outputs": [],
   "source": [
    "team_df.head(30)"
   ]
  },
  {
   "cell_type": "code",
   "execution_count": null,
   "metadata": {},
   "outputs": [],
   "source": [
    "team_stats_data = r\"C:\\Users\\gabri\\Documents\\team_stats.csv\"\n",
    "save_to_csv(team_df, team_stats_data)"
   ]
  },
  {
   "cell_type": "code",
   "execution_count": null,
   "metadata": {},
   "outputs": [],
   "source": [
    "time.sleep(1500)\n",
    "current_year = datetime.datetime.now().year\n",
    "start_year = 2007\n",
    "year_ranges = [f\"{year}{year + 1}\" for year in range(start_year, current_year)]\n",
    "present_type = ['all', 'ev', '5v5', 'sva', 'pp', '5v4', 'pk', '4v5', '3v3', 'enf', 'ena']\n",
    "score_type = ['all', 'tied', 'u', 'd', 'w1', 'u1', 'd1']\n",
    "stats_type = ['oi', 'std']\n",
    "situation_type = ['B', 'H', 'A']\n",
    "\n",
    "team_dataframes = []\n",
    "\n",
    "logging.basicConfig(level=logging.INFO, filename=r\"C:\\Users\\gabri\\Documents\\logging.txt\", filemode='a', format='%(asctime)s - %(levelname)s - %(message)s')\n",
    "\n",
    "def fetch_html_with_retry(url, retries=3, delay=50):\n",
    "    for i in range(retries):\n",
    "        try:\n",
    "            logging.info(f\"Fetching data from {url}, attempt {i+1}\")\n",
    "            full_df = pd.read_html(url)\n",
    "            return full_df\n",
    "        except (urllib.error.URLError, socket.gaierror) as e:\n",
    "            print(f\"Attempt {i+1} failed: {e}\")\n",
    "            time.sleep(delay)\n",
    "    raise Exception(f\"Failed to retrieve data from {url} after {retries} attempts\")\n",
    "\n",
    "for years in year_ranges:\n",
    "    for types in present_type:\n",
    "        for scores in score_type:\n",
    "            for stats in stats_type:\n",
    "                for situation in situation_type:    \n",
    "                    url = f\"https://www.naturalstattrick.com/playerteams.php?fromseason={years}&thruseason={years}&stype=2&sit={types}&score={scores}&stdoi={stats}&rate=n&team=ALL&pos=S&loc={situation}&toi=0&gpfilt=none&fd=&td=&tgp=410&lines=single&draftteam=ALL\"\n",
    "                    try:\n",
    "                        full_df = fetch_html_with_retry(url)\n",
    "                        df = full_df[0]\n",
    "                        df['Years'] = years\n",
    "                        df['On Ice Situation'] = types\n",
    "                        df['Score'] = scores\n",
    "                        df['Stats'] = stats\n",
    "                        df['Place'] = situation\n",
    "                        team_dataframes.append(df)\n",
    "                        time.sleep(5)\n",
    "                    except Exception as e:\n",
    "                        print(f\"Skipping {url} due to repeated failures.\")\n",
    "                time.sleep(7)\n",
    "            time.sleep(10)\n",
    "        time.sleep(12)\n",
    "    time.sleep(15)\n",
    "time.sleep(random.randint(45, 60))\n",
    "\n",
    "player_df = pd.concat(team_dataframes, ignore_index=True)"
   ]
  },
  {
   "cell_type": "code",
   "execution_count": null,
   "metadata": {},
   "outputs": [],
   "source": [
    "years_mapping = {'20072008':'2007-2008', '20082009':'2008-2009', '20092010':'2009-2010', '20102011':'2010-2011', '20112012':'2011-2012', \n",
    "                 '20122013':'2012-2013', '20132014':'2013-2014', '20142015':'2014-2015', '20152016':'2015-2016', '20162017':'2016-2017', \n",
    "                 '20172018':'2017-2018', '20182019':'2018-2019', '20192020':'2019-2020', '20202021':'2020-2021', '20212022':'2021-2022',\n",
    "                 '20222023':'2022-2023', '20232024':'2023-2024'}\n",
    "player_df['Years'] = player_df['Years'].map(years_mapping)\n",
    "\n",
    "on_ice_mapping = {'all':'All Strengths', 'ev':'Even Strength', '5v5':'5v5', 'sva':'5v5 Score and Venue Adjusted', 'pp':'Power Play', \n",
    "                 '5v4':'5 on 4 PP', 'pk':'Penalty Kill', '4v5':'4 on 5 PK', '3v3':'3 on 3', 'enf':'With Empty Net', \n",
    "                 'ena':'Against Empty Net'}\n",
    "player_df['On Ice Situation'] = player_df['On Ice Situation'].map(on_ice_mapping)\n",
    "\n",
    "scores_mapping = {'all':'All Scores', 'tied':'Tied', 'u':'Leading', 'd':'Trailing', 'w1':'Within 1', 'u1':'Up 1', 'd1':'Down 1'}\n",
    "player_df['Score'] = player_df['Score'].map(scores_mapping)\n",
    "\n",
    "stats_mapping = {'oi':'On-Ice', 'std':'Individual'}\n",
    "player_df['Stats'] = player_df['Stats'].map(stats_mapping)\n",
    "\n",
    "situation_mapping = {'B':'Home and Away', 'H':'Home', 'A':'Away'}\n",
    "player_df['Place'] = player_df['Place'].map(situation_mapping)"
   ]
  },
  {
   "cell_type": "code",
   "execution_count": null,
   "metadata": {},
   "outputs": [],
   "source": [
    "player_df.head(30)"
   ]
  },
  {
   "cell_type": "code",
   "execution_count": null,
   "metadata": {},
   "outputs": [],
   "source": [
    "player_advanced_stats_data = r\"C:\\Users\\gabri\\Documents\\player_advanced_stats_data.csv\"\n",
    "save_to_csv(player_df, player_advanced_stats_data)"
   ]
  },
  {
   "cell_type": "code",
   "execution_count": null,
   "metadata": {},
   "outputs": [],
   "source": [
    "time.sleep(1500)\n",
    "current_year = datetime.datetime.now().year\n",
    "start_year = 2007\n",
    "year_ranges = [f\"{year}{year + 1}\" for year in range(start_year, current_year)]\n",
    "present_type = ['all', 'ev', '5v5', 'sva', 'pp', '5v4', 'pk', '4v5', '3v3', 'enf', 'ena']\n",
    "score_type = ['all', 'tied', 'u', 'd', 'w1', 'u1', 'd1']\n",
    "situation_type = ['B', 'H', 'A']\n",
    "\n",
    "team_dataframes = []\n",
    "\n",
    "logging.basicConfig(level=logging.INFO, filename=r\"C:\\Users\\gabri\\Documents\\logging2.txt\", filemode='a', format='%(asctime)s - %(levelname)s - %(message)s')\n",
    "\n",
    "\n",
    "def fetch_html_with_retry(url, retries=3, delay=50):\n",
    "    for i in range(retries):\n",
    "        try:\n",
    "            logging.info(f\"Fetching data from {url}, attempt {i+1}\")\n",
    "            full_df = pd.read_html(url)\n",
    "            return full_df\n",
    "        except (urllib.error.URLError, socket.gaierror) as e:\n",
    "            print(f\"Attempt {i+1} failed: {e}\")\n",
    "            time.sleep(delay)\n",
    "    raise Exception(f\"Failed to retrieve data from {url} after {retries} attempts\")\n",
    "\n",
    "for years in year_ranges:\n",
    "    for types in present_type:\n",
    "        for scores in score_type:\n",
    "            for stats in stats_type:\n",
    "                for situation in situation_type:    \n",
    "                    url = f\"https://www.naturalstattrick.com/playerteams.php?fromseason={years}&thruseason={years}&stype=2&sit={types}&score={scores}&stdoi=g&rate=n&team=ALL&pos=S&loc={situation}&toi=0&gpfilt=none&fd=&td=&tgp=410&lines=single&draftteam=ALL\"\n",
    "                    try:\n",
    "                        full_df = fetch_html_with_retry(url)\n",
    "                        df = full_df[0]\n",
    "                        df['Years'] = years\n",
    "                        df['On Ice Situation'] = types\n",
    "                        df['Score'] = scores\n",
    "                        df['Place'] = situation\n",
    "                        team_dataframes.append(df)\n",
    "                        time.sleep(5)\n",
    "                    except Exception as e:\n",
    "                        print(f\"Skipping {url} due to repeated failures.\")\n",
    "                time.sleep(7)\n",
    "        time.sleep(10)\n",
    "    time.sleep(12)\n",
    "time.sleep(random.randint(45, 60))\n",
    "\n",
    "goalie_df = pd.concat(team_dataframes, ignore_index=True)"
   ]
  },
  {
   "cell_type": "code",
   "execution_count": null,
   "metadata": {},
   "outputs": [],
   "source": [
    "years_mapping = {'20072008':'2007-2008', '20082009':'2008-2009', '20092010':'2009-2010', '20102011':'2010-2011', '20112012':'2011-2012', \n",
    "                 '20122013':'2012-2013', '20132014':'2013-2014', '20142015':'2014-2015', '20152016':'2015-2016', '20162017':'2016-2017', \n",
    "                 '20172018':'2017-2018', '20182019':'2018-2019', '20192020':'2019-2020', '20202021':'2020-2021', '20212022':'2021-2022',\n",
    "                 '20222023':'2022-2023', '20232024':'2023-2024'}\n",
    "goalie_df['Years'] = goalie_df['Years'].map(years_mapping)\n",
    "\n",
    "on_ice_mapping = {'all':'All Strengths', 'ev':'Even Strength', '5v5':'5v5', 'sva':'5v5 Score and Venue Adjusted', 'pp':'Power Play', \n",
    "                 '5v4':'5 on 4 PP', 'pk':'Penalty Kill', '4v5':'4 on 5 PK', '3v3':'3 on 3', 'enf':'With Empty Net', \n",
    "                 'ena':'Against Empty Net'}\n",
    "goalie_df['On Ice Situation'] = goalie_df['On Ice Situation'].map(on_ice_mapping)\n",
    "\n",
    "scores_mapping = {'all':'All Scores', 'tied':'Tied', 'u':'Leading', 'd':'Trailing', 'w1':'Within 1', 'u1':'Up 1', 'd1':'Down 1'}\n",
    "goalie_df['Score'] = goalie_df['Score'].map(scores_mapping)\n",
    "\n",
    "situation_mapping = {'B':'Home and Away', 'H':'Home', 'A':'Away'}\n",
    "goalie_df['Place'] = goalie_df['Place'].map(situation_mapping)"
   ]
  },
  {
   "cell_type": "code",
   "execution_count": null,
   "metadata": {},
   "outputs": [],
   "source": [
    "goalie_df.head(30)"
   ]
  },
  {
   "cell_type": "code",
   "execution_count": null,
   "metadata": {},
   "outputs": [],
   "source": [
    "goalie_advanced_stats_data = r\"C:\\Users\\gabri\\Documents\\goalie_advanced_stats_data.csv\"\n",
    "save_to_csv(goalie_df, goalie_advanced_stats_data)"
   ]
  },
  {
   "cell_type": "code",
   "execution_count": null,
   "metadata": {},
   "outputs": [],
   "source": []
  }
 ],
 "metadata": {
  "kernelspec": {
   "display_name": "Python 3",
   "language": "python",
   "name": "python3"
  },
  "language_info": {
   "codemirror_mode": {
    "name": "ipython",
    "version": 3
   },
   "file_extension": ".py",
   "mimetype": "text/x-python",
   "name": "python",
   "nbconvert_exporter": "python",
   "pygments_lexer": "ipython3",
   "version": "3.11.3"
  }
 },
 "nbformat": 4,
 "nbformat_minor": 2
}
