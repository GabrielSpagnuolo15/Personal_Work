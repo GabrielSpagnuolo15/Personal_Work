{
 "cells": [
  {
   "cell_type": "code",
   "execution_count": 1,
   "metadata": {},
   "outputs": [
    {
     "name": "stdout",
     "output_type": "stream",
     "text": [
      "The history saving thread hit an unexpected error (OperationalError('database or disk is full')).History will not be written to the database.\n"
     ]
    }
   ],
   "source": [
    "import pandas as pd\n",
    "import time\n",
    "from concurrent.futures import ThreadPoolExecutor\n",
    "import os\n",
    "import random\n",
    "from urllib.error import HTTPError"
   ]
  },
  {
   "cell_type": "code",
   "execution_count": 2,
   "metadata": {},
   "outputs": [],
   "source": [
    "def save_to_csv(df, filename):\n",
    "    if not os.path.isfile(filename):\n",
    "        df.to_csv(filename, index=False)\n",
    "    else:  \n",
    "        df.to_csv(filename, mode='a', header=False, index=False)"
   ]
  },
  {
   "cell_type": "code",
   "execution_count": 3,
   "metadata": {},
   "outputs": [],
   "source": [
    "names_df = pd.read_csv(r\"C:\\Users\\gabri\\Documents\\nhl_players_dataset.csv\")"
   ]
  },
  {
   "cell_type": "code",
   "execution_count": 4,
   "metadata": {},
   "outputs": [
    {
     "data": {
      "text/html": [
       "<div>\n",
       "<style scoped>\n",
       "    .dataframe tbody tr th:only-of-type {\n",
       "        vertical-align: middle;\n",
       "    }\n",
       "\n",
       "    .dataframe tbody tr th {\n",
       "        vertical-align: top;\n",
       "    }\n",
       "\n",
       "    .dataframe thead th {\n",
       "        text-align: right;\n",
       "    }\n",
       "</style>\n",
       "<table border=\"1\" class=\"dataframe\">\n",
       "  <thead>\n",
       "    <tr style=\"text-align: right;\">\n",
       "      <th></th>\n",
       "      <th>Player Names</th>\n",
       "      <th>Player Links</th>\n",
       "      <th>Position</th>\n",
       "    </tr>\n",
       "  </thead>\n",
       "  <tbody>\n",
       "    <tr>\n",
       "      <th>0</th>\n",
       "      <td>Antti Aalto</td>\n",
       "      <td>/players/a/aaltoan01.html</td>\n",
       "      <td>C</td>\n",
       "    </tr>\n",
       "    <tr>\n",
       "      <th>1</th>\n",
       "      <td>George Abbott</td>\n",
       "      <td>/players/a/abbotge01.html</td>\n",
       "      <td>G</td>\n",
       "    </tr>\n",
       "    <tr>\n",
       "      <th>2</th>\n",
       "      <td>Reg Abbott</td>\n",
       "      <td>/players/a/abbotre01.html</td>\n",
       "      <td>C</td>\n",
       "    </tr>\n",
       "    <tr>\n",
       "      <th>3</th>\n",
       "      <td>Spencer Abbott</td>\n",
       "      <td>/players/a/abbotsp01.html</td>\n",
       "      <td>LW</td>\n",
       "    </tr>\n",
       "    <tr>\n",
       "      <th>4</th>\n",
       "      <td>Justin Abdelkader</td>\n",
       "      <td>/players/a/abdelju01.html</td>\n",
       "      <td>LW</td>\n",
       "    </tr>\n",
       "  </tbody>\n",
       "</table>\n",
       "</div>"
      ],
      "text/plain": [
       "        Player Names               Player Links Position\n",
       "0        Antti Aalto  /players/a/aaltoan01.html        C\n",
       "1      George Abbott  /players/a/abbotge01.html        G\n",
       "2         Reg Abbott  /players/a/abbotre01.html        C\n",
       "3     Spencer Abbott  /players/a/abbotsp01.html       LW\n",
       "4  Justin Abdelkader  /players/a/abdelju01.html       LW"
      ]
     },
     "execution_count": 4,
     "metadata": {},
     "output_type": "execute_result"
    }
   ],
   "source": [
    "names_df.head()"
   ]
  },
  {
   "cell_type": "code",
   "execution_count": 5,
   "metadata": {},
   "outputs": [
    {
     "data": {
      "text/html": [
       "<div>\n",
       "<style scoped>\n",
       "    .dataframe tbody tr th:only-of-type {\n",
       "        vertical-align: middle;\n",
       "    }\n",
       "\n",
       "    .dataframe tbody tr th {\n",
       "        vertical-align: top;\n",
       "    }\n",
       "\n",
       "    .dataframe thead th {\n",
       "        text-align: right;\n",
       "    }\n",
       "</style>\n",
       "<table border=\"1\" class=\"dataframe\">\n",
       "  <thead>\n",
       "    <tr style=\"text-align: right;\">\n",
       "      <th></th>\n",
       "      <th>Player Names</th>\n",
       "      <th>Player Links</th>\n",
       "      <th>Position</th>\n",
       "    </tr>\n",
       "  </thead>\n",
       "  <tbody>\n",
       "    <tr>\n",
       "      <th>1</th>\n",
       "      <td>George Abbott</td>\n",
       "      <td>/players/a/abbotge01.html</td>\n",
       "      <td>G</td>\n",
       "    </tr>\n",
       "    <tr>\n",
       "      <th>28</th>\n",
       "      <td>John Adams</td>\n",
       "      <td>/players/a/adamsjo02.html</td>\n",
       "      <td>G</td>\n",
       "    </tr>\n",
       "    <tr>\n",
       "      <th>33</th>\n",
       "      <td>David Aebischer</td>\n",
       "      <td>/players/a/aebisda01.html</td>\n",
       "      <td>G</td>\n",
       "    </tr>\n",
       "    <tr>\n",
       "      <th>48</th>\n",
       "      <td>John Aiken</td>\n",
       "      <td>/players/a/aikendo01.html</td>\n",
       "      <td>G</td>\n",
       "    </tr>\n",
       "    <tr>\n",
       "      <th>52</th>\n",
       "      <td>Andy Aitkenhead</td>\n",
       "      <td>/players/a/aitkean01.html</td>\n",
       "      <td>G</td>\n",
       "    </tr>\n",
       "  </tbody>\n",
       "</table>\n",
       "</div>"
      ],
      "text/plain": [
       "       Player Names               Player Links Position\n",
       "1     George Abbott  /players/a/abbotge01.html        G\n",
       "28       John Adams  /players/a/adamsjo02.html        G\n",
       "33  David Aebischer  /players/a/aebisda01.html        G\n",
       "48       John Aiken  /players/a/aikendo01.html        G\n",
       "52  Andy Aitkenhead  /players/a/aitkean01.html        G"
      ]
     },
     "execution_count": 5,
     "metadata": {},
     "output_type": "execute_result"
    }
   ],
   "source": [
    "df_goalies = names_df[names_df['Position'] == 'G']\n",
    "df_goalies.head()"
   ]
  },
  {
   "cell_type": "code",
   "execution_count": 6,
   "metadata": {},
   "outputs": [
    {
     "data": {
      "text/html": [
       "<div>\n",
       "<style scoped>\n",
       "    .dataframe tbody tr th:only-of-type {\n",
       "        vertical-align: middle;\n",
       "    }\n",
       "\n",
       "    .dataframe tbody tr th {\n",
       "        vertical-align: top;\n",
       "    }\n",
       "\n",
       "    .dataframe thead th {\n",
       "        text-align: right;\n",
       "    }\n",
       "</style>\n",
       "<table border=\"1\" class=\"dataframe\">\n",
       "  <thead>\n",
       "    <tr style=\"text-align: right;\">\n",
       "      <th></th>\n",
       "      <th>Player Names</th>\n",
       "      <th>Player Links</th>\n",
       "      <th>Position</th>\n",
       "    </tr>\n",
       "  </thead>\n",
       "  <tbody>\n",
       "    <tr>\n",
       "      <th>0</th>\n",
       "      <td>Antti Aalto</td>\n",
       "      <td>/players/a/aaltoan01.html</td>\n",
       "      <td>C</td>\n",
       "    </tr>\n",
       "    <tr>\n",
       "      <th>2</th>\n",
       "      <td>Reg Abbott</td>\n",
       "      <td>/players/a/abbotre01.html</td>\n",
       "      <td>C</td>\n",
       "    </tr>\n",
       "    <tr>\n",
       "      <th>3</th>\n",
       "      <td>Spencer Abbott</td>\n",
       "      <td>/players/a/abbotsp01.html</td>\n",
       "      <td>LW</td>\n",
       "    </tr>\n",
       "    <tr>\n",
       "      <th>4</th>\n",
       "      <td>Justin Abdelkader</td>\n",
       "      <td>/players/a/abdelju01.html</td>\n",
       "      <td>LW</td>\n",
       "    </tr>\n",
       "    <tr>\n",
       "      <th>5</th>\n",
       "      <td>Clarence Abel</td>\n",
       "      <td>/players/a/abelcl01.html</td>\n",
       "      <td>D</td>\n",
       "    </tr>\n",
       "  </tbody>\n",
       "</table>\n",
       "</div>"
      ],
      "text/plain": [
       "        Player Names               Player Links Position\n",
       "0        Antti Aalto  /players/a/aaltoan01.html        C\n",
       "2         Reg Abbott  /players/a/abbotre01.html        C\n",
       "3     Spencer Abbott  /players/a/abbotsp01.html       LW\n",
       "4  Justin Abdelkader  /players/a/abdelju01.html       LW\n",
       "5      Clarence Abel   /players/a/abelcl01.html        D"
      ]
     },
     "execution_count": 6,
     "metadata": {},
     "output_type": "execute_result"
    }
   ],
   "source": [
    "df_players = names_df[names_df['Position'] != 'G']\n",
    "df_players.head()"
   ]
  },
  {
   "cell_type": "code",
   "execution_count": 7,
   "metadata": {},
   "outputs": [],
   "source": [
    "goalie_name_list = df_goalies['Player Names'].tolist()\n",
    "goalie_link_list = df_goalies['Player Links'].tolist()\n",
    "\n",
    "player_name_list = df_players['Player Names'].tolist()\n",
    "player_link_list = df_players['Player Links'].tolist()"
   ]
  },
  {
   "cell_type": "code",
   "execution_count": 8,
   "metadata": {},
   "outputs": [
    {
     "data": {
      "text/plain": [
       "'\\nfull_df_goalies = pd.DataFrame()\\n\\ndef scrape_stats_goalies(player):\\n\\n    url = f\"https://www.hockey-reference.com{player}\"\\n    full_df = pd.read_html(url)\\n    goalie_df = full_df[0]\\n    full_df_goalies = pd.concat([full_df_goalies, goalie_df], ignore_index=True)\\n    time.sleep(random.randint(10, 20))\\n\\nwith ThreadPoolExecutor(max_workers=5) as executor:\\n    results = executor.map(scrape_stats_goalies, goalie_link_list)\\n'"
      ]
     },
     "execution_count": 8,
     "metadata": {},
     "output_type": "execute_result"
    }
   ],
   "source": [
    "'''\n",
    "full_df_goalies = pd.DataFrame()\n",
    "\n",
    "def scrape_stats_goalies(player):\n",
    "\n",
    "    url = f\"https://www.hockey-reference.com{player}\"\n",
    "    full_df = pd.read_html(url)\n",
    "    goalie_df = full_df[0]\n",
    "    full_df_goalies = pd.concat([full_df_goalies, goalie_df], ignore_index=True)\n",
    "    time.sleep(random.randint(10, 20))\n",
    "\n",
    "with ThreadPoolExecutor(max_workers=5) as executor:\n",
    "    results = executor.map(scrape_stats_goalies, goalie_link_list)\n",
    "'''"
   ]
  },
  {
   "cell_type": "code",
   "execution_count": 9,
   "metadata": {},
   "outputs": [],
   "source": [
    "#def scrape_stats_goalies(player):\n",
    "#    try:\n",
    "#        url = f\"https://www.hockey-reference.com{player}\"\n",
    "#        full_df = pd.read_html(url)\n",
    "#        goalie_df = full_df[0]\n",
    "#        time.sleep(random.randint(35, 45))  # Simulate delay\n",
    "#        return goalie_df  # Return the DataFrame for this player\n",
    "#    except Exception as e:\n",
    "#        print(f\"Error scraping {player}: {e}\")\n",
    "#        return pd.DataFrame()  # Return an empty DataFrame in case of an error\n",
    "#\n",
    "#with ThreadPoolExecutor(max_workers=5) as executor:\n",
    "#    results = executor.map(scrape_stats_goalies, goalie_link_list)\n",
    "#\n",
    "## Collect all results and concatenate them\n",
    "#full_df_goalies = pd.concat(results, ignore_index=True)"
   ]
  },
  {
   "cell_type": "code",
   "execution_count": 10,
   "metadata": {},
   "outputs": [],
   "source": [
    "def scrape_stats_goalies(player, retries=3):\n",
    "    try:\n",
    "        url = f\"https://www.hockey-reference.com{player}\"\n",
    "        full_df = pd.read_html(url)\n",
    "        goalie_df = full_df[0]\n",
    "        time.sleep(random.randint(35, 45))  # Increased delay\n",
    "        return goalie_df  # Return the DataFrame for this player\n",
    "    except HTTPError as e:\n",
    "        if retries > 0:\n",
    "            print(f\"Error scraping {player}: {e}. Retrying...\")\n",
    "            time.sleep(random.randint(35, 45))  # Wait before retrying\n",
    "            return scrape_stats_goalies(player, retries=retries-1)\n",
    "        else:\n",
    "            print(f\"Error scraping {player}: {e}. No more retries left.\")\n",
    "            return pd.DataFrame()  # Return an empty DataFrame after retries are exhausted\n",
    "    except Exception as e:\n",
    "        print(f\"Error scraping {player}: {e}\")\n",
    "        return pd.DataFrame()\n",
    "\n",
    "with ThreadPoolExecutor(max_workers=3) as executor:  # Reduced number of workers\n",
    "    results = executor.map(scrape_stats_goalies, goalie_link_list)\n",
    "\n",
    "# Collect all results and concatenate them\n",
    "full_df_goalies = pd.concat(results, ignore_index=True)"
   ]
  },
  {
   "cell_type": "code",
   "execution_count": null,
   "metadata": {},
   "outputs": [
    {
     "ename": "",
     "evalue": "",
     "output_type": "error",
     "traceback": [
      "\u001b[1;31mFailed to start the Kernel. \n",
      "\u001b[1;31mUnable to start Kernel 'Python 3.11.3' due to a timeout waiting for the ports to get used. \n",
      "\u001b[1;31mView Jupyter <a href='command:jupyter.viewOutput'>log</a> for further details."
     ]
    }
   ],
   "source": [
    "full_df_goalies.head(30)"
   ]
  },
  {
   "cell_type": "code",
   "execution_count": null,
   "metadata": {},
   "outputs": [
    {
     "ename": "",
     "evalue": "",
     "output_type": "error",
     "traceback": [
      "\u001b[1;31mFailed to start the Kernel. \n",
      "\u001b[1;31mUnable to start Kernel 'Python 3.11.3' due to a timeout waiting for the ports to get used. \n",
      "\u001b[1;31mView Jupyter <a href='command:jupyter.viewOutput'>log</a> for further details."
     ]
    }
   ],
   "source": [
    "#df = df.dropna(subset=['Unnamed: 1_level_0',    'Age'])"
   ]
  }
 ],
 "metadata": {
  "kernelspec": {
   "display_name": "Python 3",
   "language": "python",
   "name": "python3"
  },
  "language_info": {
   "codemirror_mode": {
    "name": "ipython",
    "version": 3
   },
   "file_extension": ".py",
   "mimetype": "text/x-python",
   "name": "python",
   "nbconvert_exporter": "python",
   "pygments_lexer": "ipython3",
   "version": "3.11.3"
  }
 },
 "nbformat": 4,
 "nbformat_minor": 2
}
