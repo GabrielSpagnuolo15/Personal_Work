{
 "cells": [
  {
   "cell_type": "code",
   "execution_count": 45,
   "metadata": {},
   "outputs": [],
   "source": [
    "import pandas as pd\n",
    "import time\n",
    "import os\n",
    "import random"
   ]
  },
  {
   "cell_type": "code",
   "execution_count": 46,
   "metadata": {},
   "outputs": [],
   "source": [
    "def save_to_csv(df, filename):\n",
    "    if not os.path.isfile(filename):\n",
    "        df.to_csv(filename, index=False)\n",
    "    else:  \n",
    "        df.to_csv(filename, mode='a', header=False, index=False)"
   ]
  },
  {
   "cell_type": "code",
   "execution_count": 47,
   "metadata": {},
   "outputs": [],
   "source": [
    "years = [year for year in range(1924, 2024) if year != 2005]\n",
    "df = pd.DataFrame()\n",
    "\n",
    "for year in years:\n",
    "    url = f\"https://www.hockey-reference.com/leagues/NHL_{year}_games.html\"\n",
    "    full_df = pd.read_html(url)\n",
    "    regular_season_df = full_df[0]\n",
    "    df = pd.concat([df, regular_season_df], ignore_index=True)\n",
    "    time.sleep(random.randint(20, 35))"
   ]
  },
  {
   "cell_type": "code",
   "execution_count": 48,
   "metadata": {},
   "outputs": [
    {
     "data": {
      "text/plain": [
       "'\\nurl = \"https://www.hockey-reference.com/leagues/NHL_2024_games.html\"\\nfull_df = pd.read_html(url)\\n'"
      ]
     },
     "execution_count": 48,
     "metadata": {},
     "output_type": "execute_result"
    }
   ],
   "source": [
    "'''\n",
    "url = \"https://www.hockey-reference.com/leagues/NHL_2024_games.html\"\n",
    "full_df = pd.read_html(url)\n",
    "'''"
   ]
  },
  {
   "cell_type": "code",
   "execution_count": 49,
   "metadata": {},
   "outputs": [
    {
     "data": {
      "text/html": [
       "<div>\n",
       "<style scoped>\n",
       "    .dataframe tbody tr th:only-of-type {\n",
       "        vertical-align: middle;\n",
       "    }\n",
       "\n",
       "    .dataframe tbody tr th {\n",
       "        vertical-align: top;\n",
       "    }\n",
       "\n",
       "    .dataframe thead th {\n",
       "        text-align: right;\n",
       "    }\n",
       "</style>\n",
       "<table border=\"1\" class=\"dataframe\">\n",
       "  <thead>\n",
       "    <tr style=\"text-align: right;\">\n",
       "      <th></th>\n",
       "      <th>Date</th>\n",
       "      <th>Time</th>\n",
       "      <th>Visitor</th>\n",
       "      <th>G</th>\n",
       "      <th>Home</th>\n",
       "      <th>G.1</th>\n",
       "      <th>Unnamed: 6</th>\n",
       "      <th>Att.</th>\n",
       "      <th>LOG</th>\n",
       "      <th>Notes</th>\n",
       "    </tr>\n",
       "  </thead>\n",
       "  <tbody>\n",
       "    <tr>\n",
       "      <th>0</th>\n",
       "      <td>1923-12-15</td>\n",
       "      <td>NaN</td>\n",
       "      <td>Montreal Canadiens</td>\n",
       "      <td>1</td>\n",
       "      <td>Toronto St. Patricks</td>\n",
       "      <td>2</td>\n",
       "      <td>NaN</td>\n",
       "      <td>NaN</td>\n",
       "      <td>NaN</td>\n",
       "      <td>NaN</td>\n",
       "    </tr>\n",
       "    <tr>\n",
       "      <th>1</th>\n",
       "      <td>1923-12-15</td>\n",
       "      <td>NaN</td>\n",
       "      <td>Ottawa Senators</td>\n",
       "      <td>3</td>\n",
       "      <td>Hamilton Tigers</td>\n",
       "      <td>2</td>\n",
       "      <td>NaN</td>\n",
       "      <td>NaN</td>\n",
       "      <td>NaN</td>\n",
       "      <td>NaN</td>\n",
       "    </tr>\n",
       "    <tr>\n",
       "      <th>2</th>\n",
       "      <td>1923-12-19</td>\n",
       "      <td>NaN</td>\n",
       "      <td>Toronto St. Patricks</td>\n",
       "      <td>2</td>\n",
       "      <td>Ottawa Senators</td>\n",
       "      <td>5</td>\n",
       "      <td>NaN</td>\n",
       "      <td>NaN</td>\n",
       "      <td>NaN</td>\n",
       "      <td>NaN</td>\n",
       "    </tr>\n",
       "    <tr>\n",
       "      <th>3</th>\n",
       "      <td>1923-12-19</td>\n",
       "      <td>NaN</td>\n",
       "      <td>Montreal Canadiens</td>\n",
       "      <td>3</td>\n",
       "      <td>Hamilton Tigers</td>\n",
       "      <td>1</td>\n",
       "      <td>NaN</td>\n",
       "      <td>NaN</td>\n",
       "      <td>NaN</td>\n",
       "      <td>NaN</td>\n",
       "    </tr>\n",
       "    <tr>\n",
       "      <th>4</th>\n",
       "      <td>1923-12-22</td>\n",
       "      <td>NaN</td>\n",
       "      <td>Hamilton Tigers</td>\n",
       "      <td>2</td>\n",
       "      <td>Toronto St. Patricks</td>\n",
       "      <td>5</td>\n",
       "      <td>NaN</td>\n",
       "      <td>NaN</td>\n",
       "      <td>NaN</td>\n",
       "      <td>NaN</td>\n",
       "    </tr>\n",
       "  </tbody>\n",
       "</table>\n",
       "</div>"
      ],
      "text/plain": [
       "         Date Time               Visitor  G                  Home  G.1   \n",
       "0  1923-12-15  NaN    Montreal Canadiens  1  Toronto St. Patricks    2  \\\n",
       "1  1923-12-15  NaN       Ottawa Senators  3       Hamilton Tigers    2   \n",
       "2  1923-12-19  NaN  Toronto St. Patricks  2       Ottawa Senators    5   \n",
       "3  1923-12-19  NaN    Montreal Canadiens  3       Hamilton Tigers    1   \n",
       "4  1923-12-22  NaN       Hamilton Tigers  2  Toronto St. Patricks    5   \n",
       "\n",
       "  Unnamed: 6  Att.  LOG Notes  \n",
       "0        NaN   NaN  NaN   NaN  \n",
       "1        NaN   NaN  NaN   NaN  \n",
       "2        NaN   NaN  NaN   NaN  \n",
       "3        NaN   NaN  NaN   NaN  \n",
       "4        NaN   NaN  NaN   NaN  "
      ]
     },
     "execution_count": 49,
     "metadata": {},
     "output_type": "execute_result"
    }
   ],
   "source": [
    "#df = full_df[0]\n",
    "df.head()"
   ]
  },
  {
   "cell_type": "code",
   "execution_count": 50,
   "metadata": {},
   "outputs": [],
   "source": [
    "hockey_reference_data = r\"C:\\Users\\gabri\\Documents\\hockey_reference_dataset.csv\"\n",
    "save_to_csv(df, hockey_reference_data)"
   ]
  },
  {
   "cell_type": "code",
   "execution_count": null,
   "metadata": {},
   "outputs": [],
   "source": []
  }
 ],
 "metadata": {
  "kernelspec": {
   "display_name": "Python 3",
   "language": "python",
   "name": "python3"
  },
  "language_info": {
   "codemirror_mode": {
    "name": "ipython",
    "version": 3
   },
   "file_extension": ".py",
   "mimetype": "text/x-python",
   "name": "python",
   "nbconvert_exporter": "python",
   "pygments_lexer": "ipython3",
   "version": "3.11.3"
  }
 },
 "nbformat": 4,
 "nbformat_minor": 2
}
